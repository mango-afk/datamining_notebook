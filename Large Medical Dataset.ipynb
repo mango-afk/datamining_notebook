{
 "cells": [
  {
   "cell_type": "code",
   "execution_count": 1,
   "metadata": {},
   "outputs": [],
   "source": [
    "import numpy as np\n",
    "import pandas as pd\n",
    "import matplotlib.pyplot as plt\n",
    "import seaborn as sns"
   ]
  },
  {
   "cell_type": "code",
   "execution_count": 2,
   "metadata": {},
   "outputs": [
    {
     "name": "stdout",
     "output_type": "stream",
     "text": [
      "<class 'pandas.core.frame.DataFrame'>\n",
      "RangeIndex: 51766 entries, 0 to 51765\n",
      "Data columns (total 37 columns):\n",
      "encounter_id                51766 non-null int64\n",
      "patient_nbr                 51766 non-null int64\n",
      "race                        51766 non-null object\n",
      "gender                      51766 non-null object\n",
      "age                         51766 non-null object\n",
      "weight                      51766 non-null object\n",
      "admission_type_id           51766 non-null int64\n",
      "discharge_disposition_id    51766 non-null int64\n",
      "admission_source_id         51766 non-null int64\n",
      "time_in_hospital            51766 non-null int64\n",
      "payer_code                  51766 non-null object\n",
      "medical_specialty           51766 non-null object\n",
      "num_lab_procedures          51766 non-null int64\n",
      "num_procedures              51766 non-null int64\n",
      "num_medications             51766 non-null int64\n",
      "number_outpatient           51766 non-null int64\n",
      "number_emergency            51766 non-null int64\n",
      "number_inpatient            51766 non-null int64\n",
      "diag_1                      51766 non-null object\n",
      "diag_2                      51766 non-null object\n",
      "diag_3                      51766 non-null object\n",
      "number_diagnoses            51766 non-null int64\n",
      "max_glu_serum               51766 non-null object\n",
      "A1Cresult                   51766 non-null object\n",
      "metformin                   51766 non-null object\n",
      "repaglinide                 51766 non-null object\n",
      "nateglinide                 51766 non-null object\n",
      "chlorpropamide              51766 non-null object\n",
      "glimepiride                 51766 non-null object\n",
      "acetohexamide               51766 non-null object\n",
      "glipizide                   51766 non-null object\n",
      "glyburide                   51766 non-null object\n",
      "tolbutamide                 51766 non-null object\n",
      "insulin                     51766 non-null object\n",
      "change                      51766 non-null object\n",
      "diabetesMed                 51766 non-null object\n",
      "readmitted                  51766 non-null object\n",
      "dtypes: int64(13), object(24)\n",
      "memory usage: 14.6+ MB\n",
      "None\n"
     ]
    }
   ],
   "source": [
    "#1.0 Examine Data types for each variable\n",
    "\n",
    "#read the d1 dataset\n",
    "df = pd.read_csv('D1.csv')\n",
    "\n",
    "#show all columns information\n",
    "print(df.info())"
   ]
  },
  {
   "cell_type": "code",
   "execution_count": 3,
   "metadata": {},
   "outputs": [],
   "source": [
    "#1.0 Correct the data-types\n",
    "def d1_prep():\n",
    "    #read the d1 dataset\n",
    "    d1 = pd.read_csv('d1.csv')\n",
    "    \n",
    "    #Variable data type casting\n",
    "    #Change admission_type_id from interval/int to nominal/str\n",
    "    d1['admission_type_id'] = d1['admission_type_id'].astype(str)\n",
    "    \n",
    "    #Change discharge_disposition_id from interval/int to nominal/str\n",
    "    d1['discharge_disposition_id'] = d1['discharge_disposition_id'].astype(str)\n",
    "    \n",
    "    #Change admission_source_id from interval/int to nominal/str\n",
    "    d1['admission_source_id'] = d1['admission_source_id'].astype(str)\n",
    "    \n",
    "    #Change 'change' to binary 0/1 variable\n",
    "    change_map = {'change':0, 'no change': 1}\n",
    "    d1['change'] = d1['change'].map(change_map)\n",
    "\n",
    "    #Change diabetesMed to binary 0/1 variable\n",
    "    diabetesMed_map = {'yes':0, 'no': 1}\n",
    "    d1['diabetesMed'] = d1['diabetesMed'].map(diabetesMed_map)\n",
    "    \n",
    "    return d1\n",
    "\n",
    "#from d1_tools import d1_prep"
   ]
  },
  {
   "cell_type": "code",
   "execution_count": 4,
   "metadata": {},
   "outputs": [],
   "source": [
    "#Return dataset with updated variable types.\n",
    "d1 = d1_prep()"
   ]
  },
  {
   "cell_type": "code",
   "execution_count": 60,
   "metadata": {
    "scrolled": true
   },
   "outputs": [
    {
     "name": "stdout",
     "output_type": "stream",
     "text": [
      "encounter_id                 0.828531\n",
      "patient_nbr                  0.609771\n",
      "admission_type_id            1.855348\n",
      "discharge_disposition_id     3.237941\n",
      "admission_source_id          0.155033\n",
      "time_in_hospital             1.197872\n",
      "num_lab_procedures          -0.342571\n",
      "num_procedures               1.385591\n",
      "num_medications              1.189992\n",
      "number_outpatient            7.794017\n",
      "number_emergency            21.279724\n",
      "number_inpatient             3.494846\n",
      "number_diagnoses            -1.303386\n",
      "change                            NaN\n",
      "diabetesMed                       NaN\n",
      "dtype: float64\n",
      "encounter_id           0.828531\n",
      "patient_nbr            0.609771\n",
      "time_in_hospital       1.197872\n",
      "num_lab_procedures    -0.342571\n",
      "num_procedures         1.385591\n",
      "num_medications        1.189992\n",
      "number_outpatient      7.794017\n",
      "number_emergency      21.279724\n",
      "number_inpatient       3.494846\n",
      "number_diagnoses      -1.303386\n",
      "change                      NaN\n",
      "diabetesMed                 NaN\n",
      "dtype: float64\n"
     ]
    }
   ],
   "source": [
    "#2.1 Identify skewness in variables\n",
    "\n",
    "#Select for numeric data\n",
    "d2 = d1.select_dtypes(include=[np.number])\n",
    "\n",
    "print(d1.skew(axis = 0, skipna = True))\n",
    "print(d2.skew(axis = 0, skipna = True))"
   ]
  },
  {
   "cell_type": "code",
   "execution_count": 6,
   "metadata": {},
   "outputs": [
    {
     "name": "stdout",
     "output_type": "stream",
     "text": [
      "Unique values: \n",
      " ['Caucasian' 'AfricanAmerican' 'Hispanic' '?' 'Other' 'Asian'] \n",
      "Count: \n",
      " Caucasian          40388\n",
      "AfricanAmerican     8070\n",
      "Hispanic            1018\n",
      "?                   1016\n",
      "Other                896\n",
      "Asian                378\n",
      "Name: race, dtype: int64\n",
      "\n",
      "\n",
      "Unique values: \n",
      " ['Female' 'Male' 'Unknown/Invalid'] \n",
      "Count: \n",
      " Female             27718\n",
      "Male               24044\n",
      "Unknown/Invalid        4\n",
      "Name: gender, dtype: int64\n",
      "\n",
      "\n",
      "Unique values: \n",
      " ['[60-70)' '[80-90)' '[70-80)' '[40-50)' '[50-60)' '[90-100)' '[30-40)'\n",
      " '[20-30)' '[10-20)' '[0-10)' '?'] \n",
      "Count: \n",
      " [70-80)     12972\n",
      "[60-70)     11618\n",
      "[80-90)      9671\n",
      "[50-60)      8482\n",
      "[40-50)      4619\n",
      "[30-40)      1717\n",
      "[90-100)     1616\n",
      "[20-30)       815\n",
      "[10-20)       223\n",
      "[0-10)         23\n",
      "?              10\n",
      "Name: age, dtype: int64\n",
      "\n",
      "\n",
      "Unique values: \n",
      " ['?' '[100-125)' '[50-75)' '[75-100)' '[0-25)' '[125-150)' '[25-50)'\n",
      " '[150-175)' '[175-200)' '>200'] \n",
      "Count: \n",
      " ?            50431\n",
      "[75-100)       542\n",
      "[50-75)        347\n",
      "[100-125)      309\n",
      "[125-150)       72\n",
      "[25-50)         29\n",
      "[150-175)       18\n",
      "[0-25)          11\n",
      "[175-200)        5\n",
      ">200             2\n",
      "Name: weight, dtype: int64\n",
      "\n",
      "\n",
      "Unique values: \n",
      " ['?' 'MD' 'BC' 'MC' 'HM' 'CP' 'SP' 'OG' 'UN' 'DM' 'CM' 'PO' 'SI' 'WC' 'CH'\n",
      " 'OT' 'MP' 'FR'] \n",
      "Count: \n",
      " MC    23046\n",
      "?      7601\n",
      "HM     4702\n",
      "SP     3808\n",
      "BC     3165\n",
      "MD     2537\n",
      "CP     1801\n",
      "CM     1696\n",
      "UN     1192\n",
      "OG      879\n",
      "PO      511\n",
      "DM      412\n",
      "CH      127\n",
      "WC      100\n",
      "OT       83\n",
      "MP       79\n",
      "SI       26\n",
      "FR        1\n",
      "Name: payer_code, dtype: int64\n",
      "\n",
      "\n",
      "Unique values: \n",
      " ['InternalMedicine' '?' 'Cardiology' 'Emergency/Trauma' 'Neurology'\n",
      " 'Surgery-General' 'Family/GeneralPractice'\n",
      " 'Surgery-Cardiovascular/Thoracic' 'Surgery-Vascular' 'Oncology'\n",
      " 'Osteopath' 'Surgery-Neuro' 'Radiologist' 'Nephrology' 'Pulmonology'\n",
      " 'Orthopedics-Reconstructive' 'Gastroenterology' 'Surgery-Plastic'\n",
      " 'Surgery-Pediatric' 'Psychiatry' 'Orthopedics' 'Urology'\n",
      " 'Surgery-Cardiovascular' 'Gynecology' 'PhysicalMedicineandRehabilitation'\n",
      " 'ObstetricsandGynecology' 'Hematology/Oncology' 'Podiatry'\n",
      " 'Otolaryngology' 'Surgeon' 'Pediatrics' 'Psychology' 'Hematology'\n",
      " 'OutreachServices' 'Endocrinology' 'Pathology' 'Obstetrics'\n",
      " 'Surgery-Thoracic' 'Cardiology-Pediatric' 'Ophthalmology' 'Rheumatology'\n",
      " 'SurgicalSpecialty' 'Surgery-Maxillofacial' 'Hospitalist'\n",
      " 'InfectiousDiseases' 'Perinatology' 'PhysicianNotFound' 'Neurophysiology'\n",
      " 'Anesthesiology' 'Radiology' 'Endocrinology-Metabolism' 'DCPTEAM'\n",
      " 'Resident'] \n",
      "Count: \n",
      " ?                                    32203\n",
      "Emergency/Trauma                      5616\n",
      "InternalMedicine                      3854\n",
      "Family/GeneralPractice                1949\n",
      "Cardiology                            1667\n",
      "Surgery-General                       1326\n",
      "Radiologist                           1070\n",
      "Orthopedics                            681\n",
      "Nephrology                             468\n",
      "Surgery-Vascular                       332\n",
      "Gastroenterology                       297\n",
      "Orthopedics-Reconstructive             286\n",
      "Psychiatry                             244\n",
      "Pulmonology                            211\n",
      "Urology                                203\n",
      "ObstetricsandGynecology                185\n",
      "Oncology                               143\n",
      "Neurology                              110\n",
      "Surgery-Cardiovascular/Thoracic        105\n",
      "Surgery-Neuro                           76\n",
      "Podiatry                                72\n",
      "Psychology                              64\n",
      "Pediatrics                              59\n",
      "Hematology                              59\n",
      "Surgery-Cardiovascular                  58\n",
      "Surgery-Thoracic                        54\n",
      "Hospitalist                             54\n",
      "Gynecology                              34\n",
      "Otolaryngology                          33\n",
      "SurgicalSpecialty                       32\n",
      "Ophthalmology                           30\n",
      "PhysicalMedicineandRehabilitation       28\n",
      "Surgeon                                 25\n",
      "Osteopath                               17\n",
      "Obstetrics                              15\n",
      "InfectiousDiseases                      14\n",
      "Surgery-Plastic                         14\n",
      "OutreachServices                        11\n",
      "Rheumatology                            10\n",
      "Endocrinology-Metabolism                 8\n",
      "PhysicianNotFound                        7\n",
      "Cardiology-Pediatric                     6\n",
      "Radiology                                6\n",
      "Endocrinology                            6\n",
      "DCPTEAM                                  6\n",
      "Pathology                                5\n",
      "Hematology/Oncology                      4\n",
      "Surgery-Maxillofacial                    3\n",
      "Resident                                 2\n",
      "Neurophysiology                          1\n",
      "Perinatology                             1\n",
      "Anesthesiology                           1\n",
      "Surgery-Pediatric                        1\n",
      "Name: medical_specialty, dtype: int64\n",
      "\n",
      "\n",
      "Unique values: \n",
      " ['No' '?' 'Steady' 'Up'] \n",
      "Count: \n",
      " No        51738\n",
      "Steady       18\n",
      "?             9\n",
      "Up            1\n",
      "Name: chlorpropamide, dtype: int64\n",
      "\n",
      "\n"
     ]
    }
   ],
   "source": [
    "#2.2 Inconsistencies in the data\n",
    "print(\"Unique values: \\n\",d1['race'].unique(), \"\\nCount: \\n\", d1['race'].value_counts())\n",
    "print(\"\\n\")\n",
    "print(\"Unique values: \\n\",d1['gender'].unique(), \"\\nCount: \\n\", d1['gender'].value_counts())\n",
    "print(\"\\n\")\n",
    "print(\"Unique values: \\n\",d1['age'].unique(), \"\\nCount: \\n\", d1['age'].value_counts())\n",
    "print(\"\\n\")\n",
    "print(\"Unique values: \\n\",d1['weight'].unique(), \"\\nCount: \\n\", d1['weight'].value_counts())\n",
    "print(\"\\n\")\n",
    "print(\"Unique values: \\n\",d1['payer_code'].unique(), \"\\nCount: \\n\", d1['payer_code'].value_counts())\n",
    "print(\"\\n\")\n",
    "print(\"Unique values: \\n\",d1['medical_specialty'].unique(), \"\\nCount: \\n\", d1['medical_specialty'].value_counts())\n",
    "print(\"\\n\")\n",
    "print(\"Unique values: \\n\",d1['chlorpropamide'].unique(), \"\\nCount: \\n\", d1['chlorpropamide'].value_counts())\n",
    "print(\"\\n\")"
   ]
  },
  {
   "cell_type": "code",
   "execution_count": 7,
   "metadata": {},
   "outputs": [
    {
     "name": "stdout",
     "output_type": "stream",
     "text": [
      "The average stay for patientsafter readmission within 30 days grouped by  gender\n",
      "Female    4.524752\n",
      "Male      4.482972\n",
      "Name: time_in_hospital, dtype: float64\n"
     ]
    }
   ],
   "source": [
    "#2.3.a\n",
    "\n",
    "#Define whether 'readmitted' is <30 days\n",
    "is_within30 = d1['readmitted']=='<30'\n",
    "\n",
    "#Filter out for values only containing readmission within 30 days\n",
    "within30 = d1[is_within30]\n",
    "\n",
    "#Female patient average time stay after readmission within 30 days.\n",
    "print('The average stay for patientsafter readmission within 30 days grouped by ', within30.groupby(['gender'])['time_in_hospital'].mean())"
   ]
  },
  {
   "cell_type": "code",
   "execution_count": 8,
   "metadata": {},
   "outputs": [
    {
     "name": "stdout",
     "output_type": "stream",
     "text": [
      "The highest risk age group is:  ('[70-80)', '<30')\n"
     ]
    }
   ],
   "source": [
    "#2.3.b \n",
    "\n",
    "#Group by age for readmissions from only within 30 days and print the group with the highest frequency\n",
    "print('The highest risk age group is: ', within30.groupby(['age'])['readmitted'].value_counts().idxmax())"
   ]
  },
  {
   "cell_type": "code",
   "execution_count": 9,
   "metadata": {},
   "outputs": [
    {
     "name": "stdout",
     "output_type": "stream",
     "text": [
      "readmission  age    \n",
      "no           [70-80)    6770\n",
      "             [60-70)    6270\n",
      "             [80-90)    4930\n",
      "             [50-60)    4789\n",
      "yes          [70-80)    6202\n",
      "             [60-70)    5348\n",
      "             [80-90)    4741\n",
      "             [50-60)    3693\n",
      "Name: age, dtype: int64\n"
     ]
    }
   ],
   "source": [
    "#2.3.c\n",
    "\n",
    "#Create a new column binary for readmissions\n",
    "d1['readmission'] = np.where(d1['readmitted'] != 'NO', 'yes', 'no')\n",
    "\n",
    "#group by readmission + age, value counts over 3000. \n",
    "print(d1.groupby(['readmission'])['age'].value_counts().loc[lambda x : x>3000])\n"
   ]
  },
  {
   "cell_type": "code",
   "execution_count": 10,
   "metadata": {
    "scrolled": true
   },
   "outputs": [
    {
     "name": "stdout",
     "output_type": "stream",
     "text": [
      "readmission  race           \n",
      "no           Caucasian          21268\n",
      "             AfricanAmerican     4540\n",
      "             Hispanic             674\n",
      "             ?                    649\n",
      "             Other                549\n",
      "             Asian                258\n",
      "yes          Caucasian          19120\n",
      "             AfricanAmerican     3530\n",
      "             ?                    367\n",
      "             Other                347\n",
      "             Hispanic             344\n",
      "             Asian                120\n",
      "Name: race, dtype: int64\n"
     ]
    }
   ],
   "source": [
    "#2.3.d\n",
    "\n",
    "print(d1.groupby(['readmission'])['race'].value_counts())\n",
    "\n",
    "# !! Do we drop the \"?\" from the dataframe?? There is a large number of rows containing it in this variable. \n"
   ]
  },
  {
   "cell_type": "code",
   "execution_count": 11,
   "metadata": {},
   "outputs": [
    {
     "data": {
      "image/png": "[encoded data removed]",
      "text/plain": [
       "<Figure size 432x288 with 1 Axes>"
      ]
     },
     "metadata": {
      "needs_background": "light"
     },
     "output_type": "display_data"
    },
    {
     "data": {
      "image/png": "[encoded data removed]",
      "text/plain": [
       "<Figure size 432x288 with 1 Axes>"
      ]
     },
     "metadata": {
      "needs_background": "light"
     },
     "output_type": "display_data"
    },
    {
     "data": {
      "image/png": "[encoded data removed]",
      "text/plain": [
       "<Figure size 432x288 with 1 Axes>"
      ]
     },
     "metadata": {
      "needs_background": "light"
     },
     "output_type": "display_data"
    }
   ],
   "source": [
    "#3.1\n",
    "#ignore future warnings\n",
    "import warnings\n",
    "warnings.filterwarnings(\"ignore\")\n",
    "\n",
    "op = sns.boxplot(d1['number_emergency'])\n",
    "plt.show()\n",
    "\n",
    "em = sns.boxplot(d1['number_emergency'])\n",
    "plt.show()\n",
    "\n",
    "ip = sns.boxplot(d1['number_inpatient'])\n",
    "plt.show()"
   ]
  },
  {
   "cell_type": "code",
   "execution_count": 54,
   "metadata": {
    "scrolled": true
   },
   "outputs": [
    {
     "name": "stdout",
     "output_type": "stream",
     "text": [
      "Get the average number of medications grouped by patients readmission\n",
      "readmitted\n",
      "<30    17.493944\n",
      ">30    17.117712\n",
      "NO     16.334562\n",
      "Name: num_medications, dtype: float64\n",
      "AxesSubplot(0.125,0.125;0.775x0.755)\n",
      "The average number of medications is close between each group\n"
     ]
    },
    {
     "data": {
      "image/png": "[encoded data removed]",
      "text/plain": [
       "<Figure size 432x288 with 1 Axes>"
      ]
     },
     "metadata": {
      "needs_background": "light"
     },
     "output_type": "display_data"
    }
   ],
   "source": [
    "#3.2 relationship between num_medications and readmitted. \n",
    "\n",
    "print(\"Get the average number of medications grouped by patients readmission\")\n",
    "print(d1.groupby(['readmitted'])['num_medications'].mean())\n",
    "print(d1.groupby(['readmitted'])['num_medications'].mean().plot(kind='barh'))\n",
    "plt.title(\"Number of medications grouped by patient readmission status\")\n",
    "plt.xlabel(\"Number of Medications\")\n",
    "plt.ylabel(\"Readmission Status\")\n",
    "print (\"The average number of medications is close between each group\")"
   ]
  },
  {
   "cell_type": "code",
   "execution_count": 56,
   "metadata": {},
   "outputs": [
    {
     "data": {
      "image/png": "[encoded data removed]",
      "text/plain": [
       "<Figure size 432x288 with 1 Axes>"
      ]
     },
     "metadata": {
      "needs_background": "light"
     },
     "output_type": "display_data"
    }
   ],
   "source": [
    "#3.2 probably remove this, just shows again in a distplot that there is not much difference between the number of medications and readmission status.\n",
    "lessthan30 = d1.loc[d1['readmitted'] == '<30']\n",
    "morethan30 = d1.loc[d1['readmitted'] == '>30']\n",
    "none = d1.loc[d1['readmitted'] == 'NO']\n",
    "\n",
    "sns.distplot(lessthan30[['num_medications']], label='Readmitted Within 30 Days', hist=False, rug=True)\n",
    "sns.distplot(morethan30[['num_medications']], label='Readmitted After 30 Days',hist=False, rug=True)\n",
    "sns.distplot(none[['num_medications']], label='Not Readmitted',hist=False, rug=True)\n",
    "\n",
    "plt.legend()\n",
    "plt.xlabel(\"Number of Medications\")\n",
    "plt.ylabel(\"Distribution\")\n",
    "plt.show()"
   ]
  },
  {
   "cell_type": "code",
   "execution_count": 61,
   "metadata": {},
   "outputs": [
    {
     "data": {
      "image/png": "[encoded data removed]",
      "text/plain": [
       "<Figure size 432x288 with 2 Axes>"
      ]
     },
     "metadata": {
      "needs_background": "light"
     },
     "output_type": "display_data"
    }
   ],
   "source": [
    "#3.3\n",
    "corr = d2.corr()\n",
    "\n",
    "fig = plt.figure()\n",
    "ax = fig.add_subplot(111)\n",
    "cax = ax.matshow(corr,cmap='coolwarm', vmin=-1, vmax=1)\n",
    "fig.colorbar(cax)\n",
    "ticks = np.arange(0,len(d2.columns),1)\n",
    "ax.set_xticks(ticks)\n",
    "plt.xticks(rotation=90)\n",
    "ax.set_yticks(ticks)\n",
    "ax.set_yticklabels(d2.columns)\n",
    "ax.set_xticklabels(d2.columns)\n",
    "plt.show()\n"
   ]
  },
  {
   "cell_type": "code",
   "execution_count": null,
   "metadata": {},
   "outputs": [],
   "source": []
  },
  {
   "cell_type": "code",
   "execution_count": null,
   "metadata": {},
   "outputs": [],
   "source": []
  }
 ],
 "metadata": {
  "kernelspec": {
   "display_name": "Python 3",
   "language": "python",
   "name": "python3"
  },
  "language_info": {
   "codemirror_mode": {
    "name": "ipython",
    "version": 3
   },
   "file_extension": ".py",
   "mimetype": "text/x-python",
   "name": "python",
   "nbconvert_exporter": "python",
   "pygments_lexer": "ipython3",
   "version": "3.7.3"
  }
 },
 "nbformat": 4,
 "nbformat_minor": 2
}
